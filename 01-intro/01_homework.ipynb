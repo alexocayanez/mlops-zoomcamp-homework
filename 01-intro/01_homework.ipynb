{
 "cells": [
  {
   "cell_type": "code",
   "execution_count": 1,
   "id": "520e04f3",
   "metadata": {},
   "outputs": [
    {
     "name": "stdout",
     "output_type": "stream",
     "text": [
      "Python 3.9.12\r\n"
     ]
    }
   ],
   "source": [
    "!python -V"
   ]
  },
  {
   "cell_type": "code",
   "execution_count": 2,
   "id": "32a45b1f",
   "metadata": {},
   "outputs": [],
   "source": [
    "import matplotlib.pyplot as plt\n",
    "import pandas as pd\n",
    "import pickle\n",
    "import seaborn as sns"
   ]
  },
  {
   "cell_type": "code",
   "execution_count": 3,
   "id": "ff2ac28e",
   "metadata": {},
   "outputs": [],
   "source": [
    "import sklearn\n",
    "from sklearn.feature_extraction import DictVectorizer\n",
    "from sklearn.linear_model import LinearRegression\n",
    "from sklearn.linear_model import Lasso\n",
    "from sklearn.linear_model import Ridge\n",
    "from sklearn.metrics import mean_squared_error"
   ]
  },
  {
   "cell_type": "code",
   "execution_count": 64,
   "id": "d5a5c15b",
   "metadata": {},
   "outputs": [
    {
     "name": "stdout",
     "output_type": "stream",
     "text": [
      "Pandas version: 1.4.2\n",
      "Scikit learn version: 1.0.2\n",
      "Seaborn learn version: 0.11.2\n"
     ]
    }
   ],
   "source": [
    "print(f\"Pandas version: {pd.__version__}\")\n",
    "print(f\"Scikit learn version: {sklearn.__version__}\")\n",
    "print(f\"Seaborn learn version: {sns.__version__}\")"
   ]
  },
  {
   "cell_type": "markdown",
   "id": "b411d61f",
   "metadata": {},
   "source": [
    "# Data ingestion"
   ]
  },
  {
   "cell_type": "code",
   "execution_count": 5,
   "id": "0837185b",
   "metadata": {},
   "outputs": [],
   "source": [
    "def read_df(filepath: str, verbose: bool=False):\n",
    "    df = pd.read_parquet(filepath)\n",
    "    if verbose: \n",
    "        print(f\"The dataframe has {len(df.columns)} columns with types \\n{df.dtypes}\")\n",
    "    \n",
    "    # Add a new feature idndicating the trip duration in minutes\n",
    "    df['duration'] = df.tpep_dropoff_datetime - df.tpep_pickup_datetime\n",
    "    df['duration'] = df.duration.apply(lambda td: td.total_seconds() / 60)\n",
    "    if verbose:\n",
    "        print(f\"The average of the trip duration is {df['duration'].mean():.3f} minutes and its standard deviation {df['duration'].std():.3f}\")\n",
    "    \n",
    "    # Remove toe short or too long trips from the dataframe\n",
    "    nr_before_outlier_removing = len(df)\n",
    "    df = df[(df.duration >= 1) & (df.duration <= 60)]\n",
    "    if verbose:\n",
    "        print(f\"The portion of remaining datapoints is {100*len(df)/nr_before_outlier_removing}\")\n",
    "    \n",
    "    return df"
   ]
  },
  {
   "cell_type": "code",
   "execution_count": 6,
   "id": "fe1cdbd0",
   "metadata": {},
   "outputs": [
    {
     "name": "stdout",
     "output_type": "stream",
     "text": [
      "The dataframe has 19 columns with types \n",
      "VendorID                          int64\n",
      "tpep_pickup_datetime     datetime64[ns]\n",
      "tpep_dropoff_datetime    datetime64[ns]\n",
      "passenger_count                 float64\n",
      "trip_distance                   float64\n",
      "RatecodeID                      float64\n",
      "store_and_fwd_flag               object\n",
      "PULocationID                      int64\n",
      "DOLocationID                      int64\n",
      "payment_type                      int64\n",
      "fare_amount                     float64\n",
      "extra                           float64\n",
      "mta_tax                         float64\n",
      "tip_amount                      float64\n",
      "tolls_amount                    float64\n",
      "improvement_surcharge           float64\n",
      "total_amount                    float64\n",
      "congestion_surcharge            float64\n",
      "airport_fee                     float64\n",
      "dtype: object\n",
      "The average of the trip duration is 15.669 minutes and its standard deviation 42.594\n",
      "The portion of remaining datapoints is 98.1220282212598\n"
     ]
    }
   ],
   "source": [
    "df_train = read_df('./data/yellow_tripdata_2023-01.parquet', verbose=True)"
   ]
  },
  {
   "cell_type": "code",
   "execution_count": 7,
   "id": "c71741b8",
   "metadata": {},
   "outputs": [],
   "source": [
    "df_val = read_df('./data/yellow_tripdata_2023-02.parquet')"
   ]
  },
  {
   "cell_type": "code",
   "execution_count": 27,
   "id": "d334dace",
   "metadata": {},
   "outputs": [
    {
     "data": {
      "text/plain": [
       "(3009173, 2855951)"
      ]
     },
     "execution_count": 27,
     "metadata": {},
     "output_type": "execute_result"
    }
   ],
   "source": [
    "len(df_train), len(df_val)"
   ]
  },
  {
   "cell_type": "markdown",
   "id": "77f0647e",
   "metadata": {},
   "source": [
    "# Feature extraction"
   ]
  },
  {
   "cell_type": "code",
   "execution_count": 50,
   "id": "f1e0f794",
   "metadata": {},
   "outputs": [],
   "source": [
    "def location_encoding_vectorizer(df):\n",
    "    categorical = ['PULocationID', 'DOLocationID']\n",
    "    df[categorical] = df[categorical].astype(str)\n",
    "    dv = DictVectorizer()\n",
    "    dv = dv.fit(df[categorical].to_dict(orient='records'))\n",
    "    return dv"
   ]
  },
  {
   "cell_type": "code",
   "execution_count": 51,
   "id": "c86675bc",
   "metadata": {},
   "outputs": [],
   "source": [
    "dv = location_encoding_vectorizer(df_train)"
   ]
  },
  {
   "cell_type": "code",
   "execution_count": 52,
   "id": "6b03a3de",
   "metadata": {},
   "outputs": [],
   "source": [
    "def feature_matrix(df, vectorizer):\n",
    "    categorical = ['PULocationID', 'DOLocationID']\n",
    "    df[categorical] = df[categorical].astype(str)\n",
    "    return vectorizer.transform(df[categorical].to_dict(orient='records'))"
   ]
  },
  {
   "cell_type": "code",
   "execution_count": 53,
   "id": "75818418",
   "metadata": {},
   "outputs": [],
   "source": [
    "X_train = feature_matrix(df_train, dv)"
   ]
  },
  {
   "cell_type": "code",
   "execution_count": 54,
   "id": "b1c39340",
   "metadata": {},
   "outputs": [
    {
     "data": {
      "text/plain": [
       "<3009173x515 sparse matrix of type '<class 'numpy.float64'>'\n",
       "\twith 6018346 stored elements in Compressed Sparse Row format>"
      ]
     },
     "execution_count": 54,
     "metadata": {},
     "output_type": "execute_result"
    }
   ],
   "source": [
    "X_train"
   ]
  },
  {
   "cell_type": "code",
   "execution_count": 55,
   "id": "dc39ddd8",
   "metadata": {},
   "outputs": [],
   "source": [
    "X_val = feature_matrix(df_val, dv)"
   ]
  },
  {
   "cell_type": "code",
   "execution_count": 56,
   "id": "dc386873",
   "metadata": {},
   "outputs": [
    {
     "data": {
      "text/plain": [
       "<2855951x515 sparse matrix of type '<class 'numpy.float64'>'\n",
       "\twith 5711894 stored elements in Compressed Sparse Row format>"
      ]
     },
     "execution_count": 56,
     "metadata": {},
     "output_type": "execute_result"
    }
   ],
   "source": [
    "X_val"
   ]
  },
  {
   "cell_type": "code",
   "execution_count": 57,
   "id": "a7e45017",
   "metadata": {},
   "outputs": [],
   "source": [
    "def target_variable(df, target: str='duration'):\n",
    "    return df[target].values"
   ]
  },
  {
   "cell_type": "code",
   "execution_count": 58,
   "id": "3046563b",
   "metadata": {},
   "outputs": [],
   "source": [
    "y_train = target_variable(df_train)\n",
    "y_val = target_variable(df_val)"
   ]
  },
  {
   "cell_type": "markdown",
   "id": "c10731d6",
   "metadata": {},
   "source": [
    "# Model training"
   ]
  },
  {
   "cell_type": "code",
   "execution_count": 59,
   "id": "93b0c9e2",
   "metadata": {},
   "outputs": [
    {
     "data": {
      "text/plain": [
       "LinearRegression()"
      ]
     },
     "execution_count": 59,
     "metadata": {},
     "output_type": "execute_result"
    }
   ],
   "source": [
    "lr = LinearRegression()\n",
    "lr.fit(X_train, y_train)"
   ]
  },
  {
   "cell_type": "code",
   "execution_count": 60,
   "id": "5091aa1b",
   "metadata": {
    "scrolled": true
   },
   "outputs": [
    {
     "data": {
      "text/plain": [
       "7.649261027792376"
      ]
     },
     "execution_count": 60,
     "metadata": {},
     "output_type": "execute_result"
    }
   ],
   "source": [
    "y_train_pred = lr.predict(X_train)\n",
    "mean_squared_error(y_train, y_train_pred, squared=False)"
   ]
  },
  {
   "cell_type": "code",
   "execution_count": 65,
   "id": "57bdf139",
   "metadata": {},
   "outputs": [
    {
     "data": {
      "image/png": "[encoded data removed]",
      "text/plain": [
       "<Figure size 432x288 with 1 Axes>"
      ]
     },
     "metadata": {
      "needs_background": "light"
     },
     "output_type": "display_data"
    }
   ],
   "source": [
    "sns.histplot(y_train_pred, label='prediction')\n",
    "sns.histplot(y_train, label='actual', color=\"orange\")\n",
    "\n",
    "plt.title(\"Predicted vs actual duration distribution in train set\")\n",
    "plt.legend();"
   ]
  },
  {
   "cell_type": "markdown",
   "id": "7c15beeb",
   "metadata": {},
   "source": [
    "# Model evaluation"
   ]
  },
  {
   "cell_type": "code",
   "execution_count": 61,
   "id": "481c2fe7",
   "metadata": {},
   "outputs": [
    {
     "data": {
      "text/plain": [
       "7.811832836304415"
      ]
     },
     "execution_count": 61,
     "metadata": {},
     "output_type": "execute_result"
    }
   ],
   "source": [
    "y_pred = lr.predict(X_val)\n",
    "mean_squared_error(y_val, y_pred, squared=False)"
   ]
  },
  {
   "cell_type": "code",
   "execution_count": 66,
   "id": "ae49e363",
   "metadata": {},
   "outputs": [
    {
     "data": {
      "image/png": "[encoded data removed]",
      "text/plain": [
       "<Figure size 432x288 with 1 Axes>"
      ]
     },
     "metadata": {
      "needs_background": "light"
     },
     "output_type": "display_data"
    }
   ],
   "source": [
    "sns.histplot(y_pred, label='prediction')\n",
    "sns.histplot(y_val, label='actual', color=\"orange\")\n",
    "\n",
    "plt.title(\"Predicted vs actual duration distribution in validation set\")\n",
    "plt.legend();"
   ]
  },
  {
   "cell_type": "markdown",
   "id": "5cd90457",
   "metadata": {},
   "source": [
    "# Saving the model"
   ]
  },
  {
   "cell_type": "code",
   "execution_count": 68,
   "id": "3445d75b",
   "metadata": {},
   "outputs": [],
   "source": [
    "with open('models/lin_reg.bin', 'wb') as f_out:\n",
    "    pickle.dump((dv, lr), f_out)"
   ]
  }
 ],
 "metadata": {
  "kernelspec": {
   "display_name": "Python 3 (ipykernel)",
   "language": "python",
   "name": "python3"
  },
  "language_info": {
   "codemirror_mode": {
    "name": "ipython",
    "version": 3
   },
   "file_extension": ".py",
   "mimetype": "text/x-python",
   "name": "python",
   "nbconvert_exporter": "python",
   "pygments_lexer": "ipython3",
   "version": "3.9.12"
  }
 },
 "nbformat": 4,
 "nbformat_minor": 5
}
